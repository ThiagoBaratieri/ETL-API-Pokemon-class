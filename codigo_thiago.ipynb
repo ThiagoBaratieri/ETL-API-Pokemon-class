{
 "cells": [
  {
   "cell_type": "code",
   "execution_count": 54,
   "metadata": {},
   "outputs": [],
   "source": [
    "import requests\n",
    "import pandas as pd\n",
    "\n",
    "class PokemonExtract:\n",
    "    def __init__(self):\n",
    "        self.api_url = \"https://pokeapi.co/api/v2/pokemon\"\n",
    "        self.offset = 0\n",
    "        self.limit = 100  # Escolhi um número menor para facilitar testes\n",
    "        self.total_pokemon = 0\n",
    "        self.pokemon_data = []\n",
    "\n",
    "    def get_pokemon_names(self, offset, limit):\n",
    "        base_url = f\"{self.api_url}?offset={offset}&limit={limit}\"\n",
    "        response = requests.get(base_url)\n",
    "\n",
    "        if response.status_code == 200:\n",
    "            data = response.json()\n",
    "            return [pokemon['name'] for pokemon in data['results']]\n",
    "        else:\n",
    "            print(f\"Error: Could not retrieve the list of Pokémon. Status code: {response.status_code}\")\n",
    "            return []\n",
    "        \n",
    "    def get_pokemon_data(self, pokemon_name):\n",
    "        base_url = f\"{self.api_url}/{pokemon_name.lower()}\"\n",
    "        response = requests.get(base_url)\n",
    "\n",
    "        if response.status_code == 200:\n",
    "            data = response.json()\n",
    "            return {\n",
    "                \"name\": data['name'].capitalize(),\n",
    "                \"height\": data['height'],\n",
    "                \"weight\": data['weight'],\n",
    "                \"types\": \", \".join([type_info['type']['name'].capitalize() for type_info in data['types']]),\n",
    "                \"abilities\": \", \".join([ability['ability']['name'].capitalize() for ability in data['abilities']])\n",
    "            }\n",
    "        else:\n",
    "            print(f\"Error: Could not retrieve data for {pokemon_name}. Status code: {response.status_code}\")\n",
    "            return None\n",
    "    \n",
    "    def paginacao(self):\n",
    "        while len(self.pokemon_data) < 10: # Coloquei um limite aqui, porque estava demorando muito para carregar\n",
    "            while True:\n",
    "                pokemon_names = self.get_pokemon_names(self.offset, self.limit)\n",
    "\n",
    "#                if not pokemon_names:\n",
    "#                    break\n",
    "\n",
    "                for pokemon in pokemon_names:\n",
    "                    data = self.get_pokemon_data(pokemon)\n",
    "                    if data:\n",
    "                        self.pokemon_data.append(data)\n",
    "\n",
    "                self.offset += self.limit\n",
    "                self.total_pokemon += len(pokemon_names)\n",
    "                print(f\"Processed {self.total_pokemon} Pokémon so far...\")\n",
    "\n",
    "                df = pd.DataFrame(self.pokemon_data)\n",
    "                return df\n",
    "    \n",
    "    def formatTable(self, df, fileName):\n",
    "        df.to_excel(f'{fileName}.xlsx', index=False)\n",
    "        print(f'Arquivo {fileName}.xlsx gerado com sucesso')"
   ]
  },
  {
   "cell_type": "code",
   "execution_count": 55,
   "metadata": {},
   "outputs": [],
   "source": [
    "pokemon_extract = PokemonExtract()\n"
   ]
  },
  {
   "cell_type": "code",
   "execution_count": 56,
   "metadata": {},
   "outputs": [
    {
     "name": "stdout",
     "output_type": "stream",
     "text": [
      "Processed 100 Pokémon so far...\n"
     ]
    }
   ],
   "source": [
    "df_pokemon = pokemon_extract.paginacao()\n"
   ]
  },
  {
   "cell_type": "code",
   "execution_count": 57,
   "metadata": {},
   "outputs": [
    {
     "name": "stdout",
     "output_type": "stream",
     "text": [
      "          name  height  weight          types  \\\n",
      "0    Bulbasaur       7      69  Grass, Poison   \n",
      "1      Ivysaur      10     130  Grass, Poison   \n",
      "2     Venusaur      20    1000  Grass, Poison   \n",
      "3   Charmander       6      85           Fire   \n",
      "4   Charmeleon      11     190           Fire   \n",
      "..         ...     ...     ...            ...   \n",
      "95     Drowzee      10     324        Psychic   \n",
      "96       Hypno      16     756        Psychic   \n",
      "97      Krabby       4      65          Water   \n",
      "98     Kingler      13     600          Water   \n",
      "99     Voltorb       5     104       Electric   \n",
      "\n",
      "                                 abilities  \n",
      "0                    Overgrow, Chlorophyll  \n",
      "1                    Overgrow, Chlorophyll  \n",
      "2                    Overgrow, Chlorophyll  \n",
      "3                       Blaze, Solar-power  \n",
      "4                       Blaze, Solar-power  \n",
      "..                                     ...  \n",
      "95         Insomnia, Forewarn, Inner-focus  \n",
      "96         Insomnia, Forewarn, Inner-focus  \n",
      "97  Hyper-cutter, Shell-armor, Sheer-force  \n",
      "98  Hyper-cutter, Shell-armor, Sheer-force  \n",
      "99           Soundproof, Static, Aftermath  \n",
      "\n",
      "[100 rows x 5 columns]\n"
     ]
    }
   ],
   "source": [
    "print(df_pokemon)"
   ]
  },
  {
   "cell_type": "code",
   "execution_count": 58,
   "metadata": {},
   "outputs": [
    {
     "name": "stdout",
     "output_type": "stream",
     "text": [
      "Arquivo pokemon_table.xlsx gerado com sucesso\n"
     ]
    }
   ],
   "source": [
    "pokemon_extract.formatTable(df_pokemon, 'pokemon_table')"
   ]
  }
 ],
 "metadata": {
  "kernelspec": {
   "display_name": "Python 3",
   "language": "python",
   "name": "python3"
  },
  "language_info": {
   "codemirror_mode": {
    "name": "ipython",
    "version": 3
   },
   "file_extension": ".py",
   "mimetype": "text/x-python",
   "name": "python",
   "nbconvert_exporter": "python",
   "pygments_lexer": "ipython3",
   "version": "3.12.5"
  }
 },
 "nbformat": 4,
 "nbformat_minor": 2
}

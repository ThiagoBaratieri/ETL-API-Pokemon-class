{
 "cells": [
  {
   "cell_type": "code",
   "execution_count": 8,
   "metadata": {},
   "outputs": [],
   "source": [
    "class Calculadora:\n",
    "    def __init__(self, nome, permissao):\n",
    "        self.nome = nome\n",
    "        self.permissao = permissao\n",
    "\n",
    "    def verificarPermissao(self):\n",
    "        chave = True\n",
    "        if self.permissao == 'Aprovada':\n",
    "            print('O usuario tem permissão')\n",
    "            return chave\n",
    "        else:\n",
    "            print('O usuario nao tem permissao')\n",
    "            chave = False\n",
    "            return chave\n",
    "        \n",
    "    def soma(self, num1, num2):\n",
    "        acesso = self.verificarPermissao()\n",
    "        if acesso == True:\n",
    "            if type(num1, num2) == int:\n",
    "                return num1 + num2\n",
    "            else:\n",
    "                print('Nao é um numero')\n",
    "        else:\n",
    "            print('O usuario nao tem permissao')"
   ]
  },
  {
   "cell_type": "code",
   "execution_count": 5,
   "metadata": {},
   "outputs": [],
   "source": [
    "nome = 'Thiago'\n",
    "permissao = 'Reprovado'"
   ]
  },
  {
   "cell_type": "code",
   "execution_count": 6,
   "metadata": {},
   "outputs": [],
   "source": [
    "teste = Calculadora(nome, permissao)"
   ]
  },
  {
   "cell_type": "code",
   "execution_count": 7,
   "metadata": {},
   "outputs": [
    {
     "name": "stdout",
     "output_type": "stream",
     "text": [
      "O usuario nao tem permissao\n"
     ]
    },
    {
     "data": {
      "text/plain": [
       "False"
      ]
     },
     "execution_count": 7,
     "metadata": {},
     "output_type": "execute_result"
    }
   ],
   "source": [
    "teste.verificarPermissao()"
   ]
  }
 ],
 "metadata": {
  "kernelspec": {
   "display_name": "Python 3",
   "language": "python",
   "name": "python3"
  },
  "language_info": {
   "codemirror_mode": {
    "name": "ipython",
    "version": 3
   },
   "file_extension": ".py",
   "mimetype": "text/x-python",
   "name": "python",
   "nbconvert_exporter": "python",
   "pygments_lexer": "ipython3",
   "version": "3.12.5"
  }
 },
 "nbformat": 4,
 "nbformat_minor": 2
}
